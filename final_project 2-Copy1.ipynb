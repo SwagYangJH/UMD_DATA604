{
 "cells": [
  {
   "cell_type": "code",
   "execution_count": 11,
   "metadata": {},
   "outputs": [],
   "source": [
    "import pickle\n",
    "import os\n",
    "import torch\n",
    "from torchvision import datasets\n",
    "from torchvision import transforms\n",
    "import numpy as np\n",
    "from sklearn.decomposition import KernelPCA\n",
    "from sklearn.decomposition import PCA\n",
    "from sklearn.manifold import SpectralEmbedding\n",
    "from sklearn import preprocessing\n",
    "import matplotlib.pyplot as plt\n",
    "from sklearn.metrics import accuracy_score\n",
    "from sklearn.metrics import f1_score\n",
    "from sklearn.metrics import precision_score\n",
    "from sklearn.metrics import recall_score\n",
    "from sklearn.neighbors import KNeighborsClassifier\n",
    "from sklearn.metrics import mean_squared_error \n",
    "from sklearn.metrics import precision_recall_fscore_support"
   ]
  },
  {
   "cell_type": "code",
   "execution_count": 12,
   "metadata": {},
   "outputs": [],
   "source": [
    "#loaded as numpy \n",
    "\n",
    "def unpickle(file):\n",
    "    with open(file, 'rb') as fo:\n",
    "        dict = pickle.load(fo, encoding='bytes')\n",
    "    return dict\n",
    "\n",
    "def load_data(): #Load data. use for raw data and PCA\n",
    "    cifar_path=\"data/cifar-10-batches-py\"\n",
    "    test_path=os.path.join(cifar_path,'test_batch')\n",
    "    train_data=np.zeros((10000,3072),dtype=np.uint8)\n",
    "    train_label=np.zeros((10000,1),dtype=np.uint8)\n",
    "    \n",
    "\n",
    "    #load train set\n",
    "    for i in range(1,6):\n",
    "        path=cifar_path+\"/data_batch_\"+str(i)\n",
    "        img_dict=unpickle(path)\n",
    "        label=np.asarray(img_dict[b'labels']).reshape(-1,1)\n",
    "        if i==1 :\n",
    "            train_data=np.asarray(img_dict[b'data'],dtype=np.uint8)\n",
    "            train_label=np.asarray(label,dtype=np.uint8)\n",
    "        else:\n",
    "            train_data=np.concatenate((train_data,img_dict[b'data']),axis=0)\n",
    "            train_label=np.concatenate((train_label,label),axis=0)\n",
    "\n",
    "    train_label=train_label.reshape(-1)\n",
    "\n",
    "    #load test set\n",
    "    img_test=unpickle(test_path);\n",
    "    test_data=img_test[b'data']\n",
    "    test_label=np.asarray(img_test[b'labels'])\n",
    "\n",
    "    train_data=train_data/255\n",
    "    test_data=test_data/255\n",
    "    \n",
    "    return train_data,train_label,test_data,test_label\n"
   ]
  },
  {
   "cell_type": "markdown",
   "metadata": {},
   "source": [
    "# find optimal K"
   ]
  },
  {
   "cell_type": "markdown",
   "metadata": {},
   "source": [
    "The validation set is only used to determine the hyperparameters, which are not needed to be used in the coordinate transformation later, so only the training set is divided in the original data part, because the training batches are stitched sequentially, and the data of the last batch is directly classified as the validation set. (Because the class distribution of each batch in the dataset is consistent, no additional processing is required)\n"
   ]
  },
  {
   "cell_type": "code",
   "execution_count": 13,
   "metadata": {},
   "outputs": [],
   "source": [
    "train_data,train_labels,test_data,test_labels=load_data()\n",
    "\n",
    "new_train_data=train_data[:40000]\n",
    "new_train_labels=train_labels[:40000]\n",
    "valid_data=train_data[40000:]\n",
    "valid_labels=train_labels[40000:]"
   ]
  },
  {
   "cell_type": "code",
   "execution_count": 9,
   "metadata": {},
   "outputs": [],
   "source": [
    "#optimal K\n",
    "K_list=list(range(5,27,2))\n",
    "accuray_list=[]\n",
    "\n",
    "for i in K_list:\n",
    "    neigh = KNeighborsClassifier(i)\n",
    "    neigh.fit(new_train_data,new_train_labels)\n",
    "    res = neigh.predict(valid_data)\n",
    "    accuracy = accuracy_score(valid_labels,res)\n",
    "    accuray_list.append(accuracy)\n",
    "\n"
   ]
  },
  {
   "cell_type": "code",
   "execution_count": 10,
   "metadata": {
    "scrolled": true
   },
   "outputs": [
    {
     "data": {
      "image/png": "[encoded data removed]",
      "text/plain": [
       "<Figure size 432x288 with 1 Axes>"
      ]
     },
     "metadata": {
      "needs_background": "light"
     },
     "output_type": "display_data"
    }
   ],
   "source": [
    "plt.bar(K_list,accuray_list,width=0.8)\n",
    "plt.xlabel('num_neigh')\n",
    "plt.ylabel('accuracy')\n",
    "plt.show()"
   ]
  },
  {
   "cell_type": "markdown",
   "metadata": {},
   "source": [
    "From the above figure, for the cifar10 dataset, the classification accuracy is less affected by the K value, and we take the highest test accuracy corresponding to 5, which is also the default value of KNN.\n",
    "\n",
    "The function of the validation set ends, and in the future, all of them are only divided into training set and test set."
   ]
  },
  {
   "cell_type": "code",
   "execution_count": 4,
   "metadata": {},
   "outputs": [
    {
     "name": "stdout",
     "output_type": "stream",
     "text": [
      "the global accuracy is 0.3398\n",
      "the macro f1-score is 0.3260170986061005\n"
     ]
    }
   ],
   "source": [
    "#Raw data accuracy and f1score\n",
    "train_data,train_labels,test_data,test_labels=load_data()\n",
    "neigh = KNeighborsClassifier(5)\n",
    "neigh.fit(train_data,train_labels)\n",
    "res = neigh.predict(test_data)\n",
    "accuracy = accuracy_score(test_labels,res)\n",
    "print(\"the global accuracy is\",accuracy)\n",
    "f1_macro = f1_score(test_labels,res,average='macro')\n",
    "print(\"the macro f1-score is\",f1_macro)"
   ]
  },
  {
   "cell_type": "code",
   "execution_count": 6,
   "metadata": {
    "scrolled": false
   },
   "outputs": [
    {
     "name": "stdout",
     "output_type": "stream",
     "text": [
      "the recall ratio of class 0 is 0.537000,the precision ratio is 0.383024\n",
      "the recall ratio of class 1 is 0.205000,the precision ratio is 0.646688\n",
      "the recall ratio of class 2 is 0.452000,the precision ratio is 0.225324\n",
      "the recall ratio of class 3 is 0.217000,the precision ratio is 0.294038\n",
      "the recall ratio of class 4 is 0.514000,the precision ratio is 0.244065\n",
      "the recall ratio of class 5 is 0.220000,the precision ratio is 0.392157\n",
      "the recall ratio of class 6 is 0.248000,the precision ratio is 0.346369\n",
      "the recall ratio of class 7 is 0.210000,the precision ratio is 0.677419\n",
      "the recall ratio of class 8 is 0.655000,the precision ratio is 0.398661\n",
      "the recall ratio of class 9 is 0.140000,the precision ratio is 0.696517\n"
     ]
    }
   ],
   "source": [
    "#each class accuracy\n",
    "p_class, r_class, f1_class, _ = precision_recall_fscore_support(test_labels,res,labels=[0,1,2,3,4,5,6,7,8,9])\n",
    "for i in range(10):\n",
    "    print(\"the recall ratio of class %d is %f,the precision ratio is %f\" %(i,r_class[i],p_class[i]))"
   ]
  },
  {
   "cell_type": "markdown",
   "metadata": {},
   "source": [
    "### PCA"
   ]
  },
  {
   "cell_type": "code",
   "execution_count": 14,
   "metadata": {},
   "outputs": [],
   "source": [
    "train_data,train_labels,test_data,test_labels=load_data()\n",
    "total_data=np.concatenate((train_data,test_data),axis=0)\n"
   ]
  },
  {
   "cell_type": "code",
   "execution_count": 13,
   "metadata": {
    "scrolled": false
   },
   "outputs": [
    {
     "name": "stdout",
     "output_type": "stream",
     "text": [
      "for variance percentage, the compnent number is217\n",
      "the global accuracy is 0.3621\n",
      "the macro f1-score is 0.35404655740728136\n",
      "for variance percentage, the compnent number is335\n",
      "the global accuracy is 0.3529\n",
      "the macro f1-score is 0.3416606844999087\n",
      "for variance percentage, the compnent number is660\n",
      "the global accuracy is 0.3438\n",
      "the macro f1-score is 0.33120442727063654\n"
     ]
    }
   ],
   "source": [
    "comp_list=[0.95,0.97,0.99] \n",
    "\n",
    "\n",
    "\n",
    "#The value here is the error between the data \n",
    "                           #I recovered after pca processing and the original data, \n",
    "                           #0.99 means that 99% of the information can be retained\n",
    "accuracy_list=[]\n",
    "f1_list=[]\n",
    "for i in comp_list:\n",
    "    pca=PCA(n_components=i)\n",
    "    data_trans=pca.fit_transform(total_data)\n",
    "    trans_train=data_trans[:50000]\n",
    "    trans_test=data_trans[50000:]\n",
    "    neigh = KNeighborsClassifier(5)\n",
    "    neigh.fit(trans_train,train_labels)\n",
    "    res = neigh.predict(trans_test)\n",
    "    accuracy = accuracy_score(test_labels,res)\n",
    "    print('for variance percentage, the compnent number is '+str(trans_train.shape[1]))\n",
    "    print(\"the global accuracy is\",accuracy)\n",
    "    f1_macro = f1_score(test_labels,res,average='macro')\n",
    "    print(\"the macro f1-score is\",f1_macro)\n",
    "    accuracy_list.append(accuracy)\n",
    "    f1_list.append(f1_macro)"
   ]
  },
  {
   "cell_type": "markdown",
   "metadata": {},
   "source": [
    "It shows that for the cifar0 dataset, for the KNN classification method, PCA can reduce redundant information and help to improve the classification accuracy"
   ]
  },
  {
   "cell_type": "code",
   "execution_count": 16,
   "metadata": {},
   "outputs": [
    {
     "name": "stdout",
     "output_type": "stream",
     "text": [
      "the recall ratio of class 0 is 0.565000,the precision ratio is 0.387517\n",
      "the recall ratio of class 1 is 0.257000,the precision ratio is 0.645729\n",
      "the recall ratio of class 2 is 0.454000,the precision ratio is 0.235599\n",
      "the recall ratio of class 3 is 0.205000,the precision ratio is 0.305514\n",
      "the recall ratio of class 4 is 0.497000,the precision ratio is 0.253571\n",
      "the recall ratio of class 5 is 0.223000,the precision ratio is 0.429672\n",
      "the recall ratio of class 6 is 0.340000,the precision ratio is 0.348718\n",
      "the recall ratio of class 7 is 0.244000,the precision ratio is 0.668493\n",
      "the recall ratio of class 8 is 0.645000,the precision ratio is 0.437882\n",
      "the recall ratio of class 9 is 0.191000,the precision ratio is 0.751969\n"
     ]
    }
   ],
   "source": [
    "\n",
    "pca=PCA(0.95)\n",
    "data_trans=pca.fit_transform(total_data)\n",
    "trans_train=data_trans[:50000]\n",
    "trans_test=data_trans[50000:]\n",
    "neigh = KNeighborsClassifier(5)\n",
    "neigh.fit(trans_train,train_labels)\n",
    "res = neigh.predict(trans_test)\n",
    "\n",
    "p_class, r_class, f1_class, _ = precision_recall_fscore_support(test_labels,res,labels=[0,1,2,3,4,5,6,7,8,9])\n",
    "for i in range(10):\n",
    "    print(\"the recall ratio of class %d is %f,the precision ratio is %f\" %(i,r_class[i],p_class[i]))"
   ]
  },
  {
   "attachments": {
    "image.png": {
     "image/png": "[encoded data removed]"
    }
   },
   "cell_type": "markdown",
   "metadata": {},
   "source": [
    "### kPCA\n",
    "\n",
    "implement each Batch\n",
    "![image.png](attachment:image.png)"
   ]
  },
  {
   "cell_type": "code",
   "execution_count": null,
   "metadata": {
    "scrolled": true
   },
   "outputs": [],
   "source": [
    "\n",
    "# mse_cosine_n=list()\n",
    "# for i in range(50,750,10):\n",
    "#     kpca = KernelPCA(n_components=i, kernel=\"cosine\", fit_inverse_transform=True)\n",
    "#     X_reduced = kpca.fit_transform(test_data)\n",
    "#     X_back = kpca.inverse_transform(X_reduced)\n",
    "#     mse_cosine_n.append(mean_squared_error(X_back, test_data))\n",
    "\n",
    "# fs=10   \n",
    "# fig=plt.figure(figsize=(15,10))\n",
    "# ax=fig.add_subplot(1,1,1)\n",
    "# ax.plot(range(50,750,10),mse_cosine_n,marker='o')   \n",
    "# ax.set_title(\"Reconstruction error-cosine\")\n",
    "# ax.set_xlabel(\"n_components\")\n",
    "# ax.set_ylabel(\"Reconstruction error\")"
   ]
  },
  {
   "cell_type": "markdown",
   "metadata": {},
   "source": [
    "Then the data are subjected to kPCA dimensionality reduction with three cases of dimensionality reduction 215,500,800, limited by memory, and kpca processing is performed for each batch of the training data."
   ]
  },
  {
   "cell_type": "code",
   "execution_count": 24,
   "metadata": {
    "scrolled": true
   },
   "outputs": [],
   "source": [
    "#加载为numpy格式方便后续处理\n",
    "cifar_path=\"data/cifar-10-batches-py\"\n",
    "path=os.path.join(cifar_path,'test_batch')\n",
    "train_data=np.zeros((10000,3072),dtype=np.uint8)\n",
    "train_label=np.zeros((10000,1),dtype=np.uint8)\n",
    "def unpickle(file):\n",
    "    with open(file, 'rb') as fo:\n",
    "        dict = pickle.load(fo, encoding='bytes')\n",
    "    return dict"
   ]
  },
  {
   "cell_type": "code",
   "execution_count": 25,
   "metadata": {},
   "outputs": [
    {
     "name": "stdout",
     "output_type": "stream",
     "text": [
      "for compnent number 216 :\n",
      "the global accuracy is 0.4724\n",
      "the macro f1-score is 0.46368927616736044\n",
      "for compnent number 500 :\n",
      "the global accuracy is 0.4534\n",
      "the macro f1-score is 0.44255181278502925\n",
      "for compnent number 800 :\n",
      "the global accuracy is 0.4474\n",
      "the macro f1-score is 0.4355188635532084\n"
     ]
    }
   ],
   "source": [
    "#load batch\n",
    "accuracy_list=[]\n",
    "f1_list=[]\n",
    "dimension_list=[216,500,800]#three dimensions\n",
    "for j in dimension_list:\n",
    "    train_data=np.zeros((10000,3072),dtype=np.uint8)\n",
    "    train_label=np.zeros((10000,1),dtype=np.uint8)\n",
    "    for i in range(1,6):\n",
    "        path=cifar_path+\"/data_batch_\"+str(i)\n",
    "        img_dict=unpickle(path)\n",
    "        label=np.asarray(img_dict[b'labels']).reshape(-1,1)\n",
    "        data=img_dict[b'data']/255\n",
    "        kpca = KernelPCA(n_components=j,kernel=\"cosine\")\n",
    "        data_trans=kpca.fit_transform(data)\n",
    "        if i==1:\n",
    "            train_data=np.asarray(data_trans)\n",
    "            train_label=np.asarray(label)\n",
    "        else:\n",
    "            train_data=np.concatenate((train_data,data_trans),axis=0)\n",
    "            train_label=np.concatenate((train_label,label),axis=0)\n",
    "\n",
    "    train_label=train_label.reshape(-1)      \n",
    "\n",
    "    #test\n",
    "    img_test=unpickle(path);\n",
    "    test_data=img_test[b'data']\n",
    "    test_data=test_data/255\n",
    "    test_label=np.asarray(img_test[b'labels'])\n",
    "    kpca = KernelPCA(n_components=j,kernel=\"cosine\")\n",
    "    test_data=kpca.fit_transform(test_data)\n",
    "\n",
    "\n",
    "    neigh = KNeighborsClassifier(5)\n",
    "    neigh.fit(train_data,train_label)\n",
    "    res = neigh.predict(test_data)\n",
    "    accuracy = accuracy_score(test_label,res)\n",
    "    print('for compnent number '+str(j)+' :')\n",
    "    print(\"the global accuracy is\",accuracy)\n",
    "    f1_macro = f1_score(test_label,res,average='macro')\n",
    "    print(\"the macro f1-score is\",f1_macro)\n",
    "    accuracy_list.append(accuracy)\n",
    "    f1_list.append(f1_macro)"
   ]
  },
  {
   "cell_type": "code",
   "execution_count": 26,
   "metadata": {
    "scrolled": true
   },
   "outputs": [
    {
     "name": "stdout",
     "output_type": "stream",
     "text": [
      "the recall ratio of class 0 is 0.195000,the precision ratio is 0.107497\n",
      "the recall ratio of class 1 is 0.039000,the precision ratio is 0.088435\n",
      "the recall ratio of class 2 is 0.142000,the precision ratio is 0.097527\n",
      "the recall ratio of class 3 is 0.095000,the precision ratio is 0.091965\n",
      "the recall ratio of class 4 is 0.145000,the precision ratio is 0.108777\n",
      "the recall ratio of class 5 is 0.088000,the precision ratio is 0.101617\n",
      "the recall ratio of class 6 is 0.053000,the precision ratio is 0.100000\n",
      "the recall ratio of class 7 is 0.026000,the precision ratio is 0.078788\n",
      "the recall ratio of class 8 is 0.210000,the precision ratio is 0.109833\n",
      "the recall ratio of class 9 is 0.025000,the precision ratio is 0.087719\n"
     ]
    }
   ],
   "source": [
    "p_class, r_class, f1_class, _ = precision_recall_fscore_support(test_labels,res,labels=[0,1,2,3,4,5,6,7,8,9])\n",
    "for i in range(10):\n",
    "    print(\"the recall ratio of class %d is %f,the precision ratio is %f\" %(i,r_class[i],p_class[i]))"
   ]
  },
  {
   "cell_type": "markdown",
   "metadata": {},
   "source": [
    "# LE"
   ]
  },
  {
   "cell_type": "code",
   "execution_count": 28,
   "metadata": {},
   "outputs": [],
   "source": [
    "#numpy\n",
    "cifar_path=\"data/cifar-10-batches-py\"\n",
    "path=os.path.join(cifar_path,'test_batch')\n",
    "train_data=np.zeros((10000,3072),dtype=np.uint8)\n",
    "train_label=np.zeros((10000,1),dtype=np.uint8)\n",
    "def unpickle(file):\n",
    "    with open(file, 'rb') as fo:\n",
    "        dict = pickle.load(fo, encoding='bytes')\n",
    "    return dict\n",
    "\n",
    "#batch\n",
    "for i in range(1,6):\n",
    "    path=cifar_path+\"/data_batch_\"+str(i)\n",
    "    img_dict=unpickle(path)\n",
    "    label=np.asarray(img_dict[b'labels']).reshape(-1,1)\n",
    "    data=img_dict[b'data']/255\n",
    "    LE=SpectralEmbedding(216)\n",
    "    data_trans=LE.fit_transform(data)\n",
    "    if i==1:\n",
    "        train_data=np.asarray(data_trans)\n",
    "        train_label=np.asarray(label)\n",
    "    else:\n",
    "        train_data=np.concatenate((train_data,data_trans),axis=0)\n",
    "        train_label=np.concatenate((train_label,label),axis=0)\n",
    "\n",
    "train_label=train_label.reshape(-1)      \n",
    "\n",
    "#test\n",
    "img_test=unpickle(path);\n",
    "test_data=img_test[b'data']\n",
    "test_data=test_data/255\n",
    "test_label=np.asarray(img_test[b'labels'])\n",
    "LE=SpectralEmbedding(216)\n",
    "test_data=LE.fit_transform(test_data)"
   ]
  },
  {
   "cell_type": "code",
   "execution_count": 29,
   "metadata": {},
   "outputs": [
    {
     "name": "stdout",
     "output_type": "stream",
     "text": [
      "the global accuracy is 0.5258\n",
      "the macro f1-score is 0.5250710653275553\n"
     ]
    }
   ],
   "source": [
    "neigh = KNeighborsClassifier(5)\n",
    "neigh.fit(train_data,train_label)\n",
    "res = neigh.predict(test_data)\n",
    "accuracy = accuracy_score(test_label,res)\n",
    "print(\"the global accuracy is\",accuracy)\n",
    "f1_macro = f1_score(test_label,res,average='macro')\n",
    "print(\"the macro f1-score is\",f1_macro)"
   ]
  },
  {
   "cell_type": "code",
   "execution_count": 30,
   "metadata": {},
   "outputs": [
    {
     "name": "stdout",
     "output_type": "stream",
     "text": [
      "the recall ratio of class 0 is 0.728797,the precision ratio is 0.431659\n",
      "the recall ratio of class 1 is 0.556213,the precision ratio is 0.640909\n",
      "the recall ratio of class 2 is 0.577731,the precision ratio is 0.403818\n",
      "the recall ratio of class 3 is 0.431102,the precision ratio is 0.566624\n",
      "the recall ratio of class 4 is 0.551655,the precision ratio is 0.444265\n",
      "the recall ratio of class 5 is 0.423415,the precision ratio is 0.617354\n",
      "the recall ratio of class 6 is 0.525510,the precision ratio is 0.492352\n",
      "the recall ratio of class 7 is 0.422723,the precision ratio is 0.697635\n",
      "the recall ratio of class 8 is 0.658026,the precision ratio is 0.562660\n",
      "the recall ratio of class 9 is 0.386497,the precision ratio is 0.758157\n"
     ]
    }
   ],
   "source": [
    "p_class, r_class, f1_class, _ = precision_recall_fscore_support(test_label,res,labels=[0,1,2,3,4,5,6,7,8,9])\n",
    "for i in range(10):\n",
    "    print(\"the recall ratio of class %d is %f,the precision ratio is %f\" %(i,r_class[i],p_class[i]))"
   ]
  },
  {
   "cell_type": "code",
   "execution_count": 31,
   "metadata": {},
   "outputs": [
    {
     "name": "stdout",
     "output_type": "stream",
     "text": [
      "the global accuracy is 0.1022\n",
      "the macro f1-score is 0.5250710653275553\n",
      "the global accuracy is 0.0922\n",
      "the macro f1-score is 0.3199798211802446\n"
     ]
    },
    {
     "ename": "KeyboardInterrupt",
     "evalue": "",
     "output_type": "error",
     "traceback": [
      "\u001b[0;31m---------------------------------------------------------------------------\u001b[0m",
      "\u001b[0;31mKeyboardInterrupt\u001b[0m                         Traceback (most recent call last)",
      "\u001b[0;32m<ipython-input-31-5cea05ef68d4>\u001b[0m in \u001b[0;36m<module>\u001b[0;34m\u001b[0m\n\u001b[1;32m     37\u001b[0m \u001b[0;34m\u001b[0m\u001b[0m\n\u001b[1;32m     38\u001b[0m     \u001b[0mLE\u001b[0m\u001b[0;34m=\u001b[0m\u001b[0mSpectralEmbedding\u001b[0m\u001b[0;34m(\u001b[0m\u001b[0mj\u001b[0m\u001b[0;34m)\u001b[0m\u001b[0;34m\u001b[0m\u001b[0;34m\u001b[0m\u001b[0m\n\u001b[0;32m---> 39\u001b[0;31m     \u001b[0mtest_data\u001b[0m\u001b[0;34m=\u001b[0m\u001b[0mLE\u001b[0m\u001b[0;34m.\u001b[0m\u001b[0mfit_transform\u001b[0m\u001b[0;34m(\u001b[0m\u001b[0mtest_data\u001b[0m\u001b[0;34m)\u001b[0m\u001b[0;34m\u001b[0m\u001b[0;34m\u001b[0m\u001b[0m\n\u001b[0m\u001b[1;32m     40\u001b[0m     \u001b[0mneigh\u001b[0m \u001b[0;34m=\u001b[0m \u001b[0mKNeighborsClassifier\u001b[0m\u001b[0;34m(\u001b[0m\u001b[0;36m5\u001b[0m\u001b[0;34m)\u001b[0m\u001b[0;34m\u001b[0m\u001b[0;34m\u001b[0m\u001b[0m\n\u001b[1;32m     41\u001b[0m     \u001b[0mneigh\u001b[0m\u001b[0;34m.\u001b[0m\u001b[0mfit\u001b[0m\u001b[0;34m(\u001b[0m\u001b[0mtrain_data\u001b[0m\u001b[0;34m,\u001b[0m\u001b[0mtrain_label\u001b[0m\u001b[0;34m)\u001b[0m\u001b[0;34m\u001b[0m\u001b[0;34m\u001b[0m\u001b[0m\n",
      "\u001b[0;32m~/opt/anaconda3/lib/python3.8/site-packages/sklearn/manifold/_spectral_embedding.py\u001b[0m in \u001b[0;36mfit_transform\u001b[0;34m(self, X, y)\u001b[0m\n\u001b[1;32m    675\u001b[0m             \u001b[0mSpectral\u001b[0m \u001b[0membedding\u001b[0m \u001b[0mof\u001b[0m \u001b[0mthe\u001b[0m \u001b[0mtraining\u001b[0m \u001b[0mmatrix\u001b[0m\u001b[0;34m.\u001b[0m\u001b[0;34m\u001b[0m\u001b[0;34m\u001b[0m\u001b[0m\n\u001b[1;32m    676\u001b[0m         \"\"\"\n\u001b[0;32m--> 677\u001b[0;31m         \u001b[0mself\u001b[0m\u001b[0;34m.\u001b[0m\u001b[0mfit\u001b[0m\u001b[0;34m(\u001b[0m\u001b[0mX\u001b[0m\u001b[0;34m)\u001b[0m\u001b[0;34m\u001b[0m\u001b[0;34m\u001b[0m\u001b[0m\n\u001b[0m\u001b[1;32m    678\u001b[0m         \u001b[0;32mreturn\u001b[0m \u001b[0mself\u001b[0m\u001b[0;34m.\u001b[0m\u001b[0membedding_\u001b[0m\u001b[0;34m\u001b[0m\u001b[0;34m\u001b[0m\u001b[0m\n",
      "\u001b[0;32m~/opt/anaconda3/lib/python3.8/site-packages/sklearn/manifold/_spectral_embedding.py\u001b[0m in \u001b[0;36mfit\u001b[0;34m(self, X, y)\u001b[0m\n\u001b[1;32m    645\u001b[0m \u001b[0;34m\u001b[0m\u001b[0m\n\u001b[1;32m    646\u001b[0m         \u001b[0maffinity_matrix\u001b[0m \u001b[0;34m=\u001b[0m \u001b[0mself\u001b[0m\u001b[0;34m.\u001b[0m\u001b[0m_get_affinity_matrix\u001b[0m\u001b[0;34m(\u001b[0m\u001b[0mX\u001b[0m\u001b[0;34m)\u001b[0m\u001b[0;34m\u001b[0m\u001b[0;34m\u001b[0m\u001b[0m\n\u001b[0;32m--> 647\u001b[0;31m         self.embedding_ = spectral_embedding(\n\u001b[0m\u001b[1;32m    648\u001b[0m             \u001b[0maffinity_matrix\u001b[0m\u001b[0;34m,\u001b[0m\u001b[0;34m\u001b[0m\u001b[0;34m\u001b[0m\u001b[0m\n\u001b[1;32m    649\u001b[0m             \u001b[0mn_components\u001b[0m\u001b[0;34m=\u001b[0m\u001b[0mself\u001b[0m\u001b[0;34m.\u001b[0m\u001b[0mn_components\u001b[0m\u001b[0;34m,\u001b[0m\u001b[0;34m\u001b[0m\u001b[0;34m\u001b[0m\u001b[0m\n",
      "\u001b[0;32m~/opt/anaconda3/lib/python3.8/site-packages/sklearn/manifold/_spectral_embedding.py\u001b[0m in \u001b[0;36mspectral_embedding\u001b[0;34m(adjacency, n_components, eigen_solver, random_state, eigen_tol, norm_laplacian, drop_first)\u001b[0m\n\u001b[1;32m    297\u001b[0m             \u001b[0mlaplacian\u001b[0m \u001b[0;34m*=\u001b[0m \u001b[0;34m-\u001b[0m\u001b[0;36m1\u001b[0m\u001b[0;34m\u001b[0m\u001b[0;34m\u001b[0m\u001b[0m\n\u001b[1;32m    298\u001b[0m             \u001b[0mv0\u001b[0m \u001b[0;34m=\u001b[0m \u001b[0m_init_arpack_v0\u001b[0m\u001b[0;34m(\u001b[0m\u001b[0mlaplacian\u001b[0m\u001b[0;34m.\u001b[0m\u001b[0mshape\u001b[0m\u001b[0;34m[\u001b[0m\u001b[0;36m0\u001b[0m\u001b[0;34m]\u001b[0m\u001b[0;34m,\u001b[0m \u001b[0mrandom_state\u001b[0m\u001b[0;34m)\u001b[0m\u001b[0;34m\u001b[0m\u001b[0;34m\u001b[0m\u001b[0m\n\u001b[0;32m--> 299\u001b[0;31m             _, diffusion_map = eigsh(\n\u001b[0m\u001b[1;32m    300\u001b[0m                 \u001b[0mlaplacian\u001b[0m\u001b[0;34m,\u001b[0m \u001b[0mk\u001b[0m\u001b[0;34m=\u001b[0m\u001b[0mn_components\u001b[0m\u001b[0;34m,\u001b[0m \u001b[0msigma\u001b[0m\u001b[0;34m=\u001b[0m\u001b[0;36m1.0\u001b[0m\u001b[0;34m,\u001b[0m \u001b[0mwhich\u001b[0m\u001b[0;34m=\u001b[0m\u001b[0;34m\"LM\"\u001b[0m\u001b[0;34m,\u001b[0m \u001b[0mtol\u001b[0m\u001b[0;34m=\u001b[0m\u001b[0meigen_tol\u001b[0m\u001b[0;34m,\u001b[0m \u001b[0mv0\u001b[0m\u001b[0;34m=\u001b[0m\u001b[0mv0\u001b[0m\u001b[0;34m\u001b[0m\u001b[0;34m\u001b[0m\u001b[0m\n\u001b[1;32m    301\u001b[0m             )\n",
      "\u001b[0;32m~/opt/anaconda3/lib/python3.8/site-packages/scipy/sparse/linalg/eigen/arpack/arpack.py\u001b[0m in \u001b[0;36meigsh\u001b[0;34m(A, k, M, sigma, which, v0, ncv, maxiter, tol, return_eigenvectors, Minv, OPinv, mode)\u001b[0m\n\u001b[1;32m   1639\u001b[0m             \u001b[0mmatvec\u001b[0m \u001b[0;34m=\u001b[0m \u001b[0;32mNone\u001b[0m\u001b[0;34m\u001b[0m\u001b[0;34m\u001b[0m\u001b[0m\n\u001b[1;32m   1640\u001b[0m             \u001b[0;32mif\u001b[0m \u001b[0mOPinv\u001b[0m \u001b[0;32mis\u001b[0m \u001b[0;32mNone\u001b[0m\u001b[0;34m:\u001b[0m\u001b[0;34m\u001b[0m\u001b[0;34m\u001b[0m\u001b[0m\n\u001b[0;32m-> 1641\u001b[0;31m                 Minv_matvec = get_OPinv_matvec(A, M, sigma,\n\u001b[0m\u001b[1;32m   1642\u001b[0m                                                hermitian=True, tol=tol)\n\u001b[1;32m   1643\u001b[0m             \u001b[0;32melse\u001b[0m\u001b[0;34m:\u001b[0m\u001b[0;34m\u001b[0m\u001b[0;34m\u001b[0m\u001b[0m\n",
      "\u001b[0;32m~/opt/anaconda3/lib/python3.8/site-packages/scipy/sparse/linalg/eigen/arpack/arpack.py\u001b[0m in \u001b[0;36mget_OPinv_matvec\u001b[0;34m(A, M, sigma, hermitian, tol)\u001b[0m\n\u001b[1;32m   1072\u001b[0m             \u001b[0mA\u001b[0m \u001b[0;34m=\u001b[0m \u001b[0mA\u001b[0m \u001b[0;34m-\u001b[0m \u001b[0msigma\u001b[0m \u001b[0;34m*\u001b[0m \u001b[0meye\u001b[0m\u001b[0;34m(\u001b[0m\u001b[0mA\u001b[0m\u001b[0;34m.\u001b[0m\u001b[0mshape\u001b[0m\u001b[0;34m[\u001b[0m\u001b[0;36m0\u001b[0m\u001b[0;34m]\u001b[0m\u001b[0;34m)\u001b[0m\u001b[0;34m\u001b[0m\u001b[0;34m\u001b[0m\u001b[0m\n\u001b[1;32m   1073\u001b[0m             \u001b[0mA\u001b[0m \u001b[0;34m=\u001b[0m \u001b[0m_fast_spmatrix_to_csc\u001b[0m\u001b[0;34m(\u001b[0m\u001b[0mA\u001b[0m\u001b[0;34m,\u001b[0m \u001b[0mhermitian\u001b[0m\u001b[0;34m=\u001b[0m\u001b[0mhermitian\u001b[0m\u001b[0;34m)\u001b[0m\u001b[0;34m\u001b[0m\u001b[0;34m\u001b[0m\u001b[0m\n\u001b[0;32m-> 1074\u001b[0;31m             \u001b[0;32mreturn\u001b[0m \u001b[0mSpLuInv\u001b[0m\u001b[0;34m(\u001b[0m\u001b[0mA\u001b[0m\u001b[0;34m)\u001b[0m\u001b[0;34m.\u001b[0m\u001b[0mmatvec\u001b[0m\u001b[0;34m\u001b[0m\u001b[0;34m\u001b[0m\u001b[0m\n\u001b[0m\u001b[1;32m   1075\u001b[0m         \u001b[0;32melse\u001b[0m\u001b[0;34m:\u001b[0m\u001b[0;34m\u001b[0m\u001b[0;34m\u001b[0m\u001b[0m\n\u001b[1;32m   1076\u001b[0m             return IterOpInv(_aslinearoperator_with_dtype(A),\n",
      "\u001b[0;32m~/opt/anaconda3/lib/python3.8/site-packages/scipy/sparse/linalg/eigen/arpack/arpack.py\u001b[0m in \u001b[0;36m__init__\u001b[0;34m(self, M)\u001b[0m\n\u001b[1;32m    912\u001b[0m     \"\"\"\n\u001b[1;32m    913\u001b[0m     \u001b[0;32mdef\u001b[0m \u001b[0m__init__\u001b[0m\u001b[0;34m(\u001b[0m\u001b[0mself\u001b[0m\u001b[0;34m,\u001b[0m \u001b[0mM\u001b[0m\u001b[0;34m)\u001b[0m\u001b[0;34m:\u001b[0m\u001b[0;34m\u001b[0m\u001b[0;34m\u001b[0m\u001b[0m\n\u001b[0;32m--> 914\u001b[0;31m         \u001b[0mself\u001b[0m\u001b[0;34m.\u001b[0m\u001b[0mM_lu\u001b[0m \u001b[0;34m=\u001b[0m \u001b[0msplu\u001b[0m\u001b[0;34m(\u001b[0m\u001b[0mM\u001b[0m\u001b[0;34m)\u001b[0m\u001b[0;34m\u001b[0m\u001b[0;34m\u001b[0m\u001b[0m\n\u001b[0m\u001b[1;32m    915\u001b[0m         \u001b[0mself\u001b[0m\u001b[0;34m.\u001b[0m\u001b[0mshape\u001b[0m \u001b[0;34m=\u001b[0m \u001b[0mM\u001b[0m\u001b[0;34m.\u001b[0m\u001b[0mshape\u001b[0m\u001b[0;34m\u001b[0m\u001b[0;34m\u001b[0m\u001b[0m\n\u001b[1;32m    916\u001b[0m         \u001b[0mself\u001b[0m\u001b[0;34m.\u001b[0m\u001b[0mdtype\u001b[0m \u001b[0;34m=\u001b[0m \u001b[0mM\u001b[0m\u001b[0;34m.\u001b[0m\u001b[0mdtype\u001b[0m\u001b[0;34m\u001b[0m\u001b[0;34m\u001b[0m\u001b[0m\n",
      "\u001b[0;32m~/opt/anaconda3/lib/python3.8/site-packages/scipy/sparse/linalg/dsolve/linsolve.py\u001b[0m in \u001b[0;36msplu\u001b[0;34m(A, permc_spec, diag_pivot_thresh, relax, panel_size, options)\u001b[0m\n\u001b[1;32m    335\u001b[0m         \u001b[0m_options\u001b[0m\u001b[0;34m[\u001b[0m\u001b[0;34m\"SymmetricMode\"\u001b[0m\u001b[0;34m]\u001b[0m \u001b[0;34m=\u001b[0m \u001b[0;32mTrue\u001b[0m\u001b[0;34m\u001b[0m\u001b[0;34m\u001b[0m\u001b[0m\n\u001b[1;32m    336\u001b[0m \u001b[0;34m\u001b[0m\u001b[0m\n\u001b[0;32m--> 337\u001b[0;31m     return _superlu.gstrf(N, A.nnz, A.data, A.indices, A.indptr,\n\u001b[0m\u001b[1;32m    338\u001b[0m                           \u001b[0mcsc_construct_func\u001b[0m\u001b[0;34m=\u001b[0m\u001b[0mcsc_construct_func\u001b[0m\u001b[0;34m,\u001b[0m\u001b[0;34m\u001b[0m\u001b[0;34m\u001b[0m\u001b[0m\n\u001b[1;32m    339\u001b[0m                           ilu=False, options=_options)\n",
      "\u001b[0;31mKeyboardInterrupt\u001b[0m: "
     ]
    }
   ],
   "source": [
    "#加载为numpy格式方便后续处理\n",
    "cifar_path=\"data/cifar-10-batches-py\"\n",
    "path=os.path.join(cifar_path,'test_batch')\n",
    "train_data=np.zeros((10000,3072),dtype=np.uint8)\n",
    "train_label=np.zeros((10000,1),dtype=np.uint8)\n",
    "def unpickle(file):\n",
    "    with open(file, 'rb') as fo:\n",
    "        dict = pickle.load(fo, encoding='bytes')\n",
    "    return dict\n",
    "\n",
    "#加载训练集batch并处理\n",
    "accuracy_list=[]\n",
    "f1_list=[]\n",
    "dimension_list=[216,618,800]#这里只用这三个维度，你自己有需要自己加\n",
    "for j in dimension_list:\n",
    "    for i in range(1,6):\n",
    "        path=cifar_path+\"/data_batch_\"+str(i)\n",
    "        img_dict=unpickle(path)\n",
    "        label=np.asarray(img_dict[b'labels']).reshape(-1,1)\n",
    "        data=img_dict[b'data']/255\n",
    "        LE=SpectralEmbedding(j)\n",
    "        data_trans=LE.fit_transform(data)\n",
    "        if i==1:\n",
    "            train_data=np.asarray(data_trans)\n",
    "            train_label=np.asarray(label)\n",
    "        else:\n",
    "            train_data=np.concatenate((train_data,data_trans),axis=0)\n",
    "            train_label=np.concatenate((train_label,label),axis=0)\n",
    "\n",
    "    train_label=train_label.reshape(-1)      \n",
    "\n",
    "#加载测试集\n",
    "    img_test=unpickle(path);\n",
    "    test_data=img_test[b'data']\n",
    "    test_data=test_data/255\n",
    "    test_label=np.asarray(img_test[b'labels'])\n",
    "    \n",
    "    LE=SpectralEmbedding(j)\n",
    "    test_data=LE.fit_transform(test_data)\n",
    "    neigh = KNeighborsClassifier(5)\n",
    "    neigh.fit(train_data,train_label)\n",
    "    res = neigh.predict(test_data)\n",
    "    accuracy = accuracy_score(test_labels,res)\n",
    "    print(\"the global accuracy is\",accuracy)\n",
    "    f1_macro = f1_score(test_label,res,average='macro')\n",
    "    print(\"the macro f1-score is\",f1_macro)\n",
    "    accuracy_list.append(accuracy)\n",
    "    f1_list.append(f1_macro)\n",
    "    \n",
    "    "
   ]
  },
  {
   "cell_type": "code",
   "execution_count": null,
   "metadata": {},
   "outputs": [],
   "source": []
  }
 ],
 "metadata": {
  "kernelspec": {
   "display_name": "Python 3",
   "language": "python",
   "name": "python3"
  },
  "language_info": {
   "codemirror_mode": {
    "name": "ipython",
    "version": 3
   },
   "file_extension": ".py",
   "mimetype": "text/x-python",
   "name": "python",
   "nbconvert_exporter": "python",
   "pygments_lexer": "ipython3",
   "version": "3.8.5"
  }
 },
 "nbformat": 4,
 "nbformat_minor": 5
}
