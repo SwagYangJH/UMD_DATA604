{
 "cells": [
  {
   "cell_type": "code",
   "execution_count": 1,
   "metadata": {
    "collapsed": true
   },
   "outputs": [],
   "source": [
    "import numpy as np\n",
    "import os\n",
    "from tqdm import tqdm\n",
    "from sklearn.neighbors import KNeighborsClassifier\n",
    "from sklearn.metrics import accuracy_score\n",
    "from sklearn.decomposition import PCA\n",
    "import matplotlib.pyplot as plt\n",
    "from PIL import Image\n",
    "from skimage import feature as ft\n",
    "from skimage.transform import resize\n",
    "from skimage.feature import hog\n",
    "from skimage import exposure"
   ]
  },
  {
   "cell_type": "code",
   "execution_count": 2,
   "metadata": {
    "collapsed": true
   },
   "outputs": [],
   "source": [
    "def CreatData():\n",
    " \n",
    "    x=[]\n",
    "    y=[]\n",
    "    for i in range(1,6):\n",
    "        batch_path='/Users/swagyangjh/Desktop/604/finalProejct/final/data/cifar-10-batches-py/data_batch_%d'%(i)\n",
    "        batch_dict=unpickle(batch_path)\n",
    "        train_batch=batch_dict[b'data'].astype('float')\n",
    "        train_labels=np.array(batch_dict[b'labels'])\n",
    "        x.append(train_batch)\n",
    "        y.append(train_labels)\n",
    "\n",
    "    traindata=np.concatenate(x)\n",
    "    trainlabels=np.concatenate(y)\n",
    "    \n",
    "\n",
    "    testpath=os.path.join('cifar-10-batches-py','test_batch')\n",
    "    test_dict=unpickle(testpath)\n",
    "    testdata=test_dict[b'data'].astype('float')\n",
    "    testlabels=np.array(test_dict[b'labels'])\n",
    "    \n",
    "    return traindata,trainlabels,testdata,testlabels"
   ]
  },
  {
   "cell_type": "code",
   "execution_count": 3,
   "metadata": {
    "collapsed": true
   },
   "outputs": [],
   "source": [
    "def KNN(traindata,trainlabels,testdata,k=3):\n",
    " \n",
    "    num_train=traindata.shape[0]\n",
    "    num_test=testdata.shape[0]\n",
    "    dist=np.zeros((num_test,num_train))\n",
    "    for i in range(num_test):\n",
    "        dist[i]=np.reshape(np.sqrt(np.sum(np.square(testdata[i]-traindata),axis=1)),[1,num_train])\n",
    "   \n",
    "    predictlabels=np.zeros((num_test,1))\n",
    "    for i in range(num_test):\n",
    "        close_k=trainlabels[np.argsort(dist[i])[:k]]\n",
    "        predictlabels[i]=np.argmax(np.bincount(close_k))\n",
    "\n",
    "    return predictlabels"
   ]
  },
  {
   "cell_type": "code",
   "execution_count": 4,
   "metadata": {
    "collapsed": true
   },
   "outputs": [],
   "source": [
    "\n",
    "import numpy as np\n",
    "import os\n",
    "import time\n",
    "import matplotlib.pyplot as plt\n",
    "\n",
    "\n",
    "\n",
    "\n",
    "def unpickle(file):\n",
    "    import pickle\n",
    "    with open(file, 'rb') as fo:\n",
    "        dict = pickle.load(fo, encoding='bytes')\n",
    "    return dict\n",
    "\n",
    "\n",
    "def CreatData():\n",
    "   \n",
    "    x=[]\n",
    "    y=[]\n",
    "    for i in range(1,6):\n",
    "        batch_path='/Users/swagyangjh/Desktop/604/finalProejct/final/data/cifar-10-batches-py/data_batch_%d'%(i)\n",
    "        batch_dict=unpickle(batch_path)\n",
    "        train_batch=batch_dict[b'data'].astype('float')\n",
    "        train_labels=np.array(batch_dict[b'labels'])\n",
    "        x.append(train_batch)\n",
    "        y.append(train_labels)\n",
    "   \n",
    "    traindata=np.concatenate(x)\n",
    "    trainlabels=np.concatenate(y)\n",
    "    \n",
    "\n",
    "    testpath=os.path.join('/Users/swagyangjh/Desktop/604/finalProejct/final/data/cifar-10-batches-py/test_batch')\n",
    "    test_dict=unpickle(testpath)\n",
    "    testdata=test_dict[b'data'].astype('float')\n",
    "    testlabels=np.array(test_dict[b'labels'])\n",
    "    \n",
    "    return traindata,trainlabels,testdata,testlabels\n",
    "\n"
   ]
  },
  {
   "cell_type": "code",
   "execution_count": 5,
   "metadata": {
    "collapsed": true
   },
   "outputs": [
    {
     "name": "stdout",
     "output_type": "stream",
     "text": [
      "traindata: (50000, 3072)\n",
      "trainlabels: (50000,)\n",
      "testdata: (10000, 3072)\n",
      "testlabels: (10000,)\n"
     ]
    }
   ],
   "source": [
    "\n",
    "start_time=time.process_time()\n",
    "traindata,trainlabels,testdata,testlabels=CreatData()\n",
    "print('traindata:',traindata.shape)\n",
    "print('trainlabels:',trainlabels.shape)\n",
    "print('testdata:',testdata.shape)\n",
    "print('testlabels:',testlabels.shape)\n",
    "\n"
   ]
  },
  {
   "cell_type": "code",
   "execution_count": 6,
   "metadata": {
    "collapsed": true
   },
   "outputs": [
    {
     "ename": "NameError",
     "evalue": "name 'traindata1' is not defined",
     "output_type": "error",
     "traceback": [
      "\u001b[0;31m---------------------------------------------------------------------------\u001b[0m",
      "\u001b[0;31mNameError\u001b[0m                                 Traceback (most recent call last)",
      "\u001b[0;32m<ipython-input-6-d553a9c3418f>\u001b[0m in \u001b[0;36m<module>\u001b[0;34m\u001b[0m\n\u001b[1;32m      2\u001b[0m \u001b[0mnum_test\u001b[0m\u001b[0;34m=\u001b[0m\u001b[0;36m5000\u001b[0m\u001b[0;34m\u001b[0m\u001b[0;34m\u001b[0m\u001b[0m\n\u001b[1;32m      3\u001b[0m \u001b[0;34m\u001b[0m\u001b[0m\n\u001b[0;32m----> 4\u001b[0;31m \u001b[0mtraindata\u001b[0m\u001b[0;34m=\u001b[0m\u001b[0mtraindata1\u001b[0m\u001b[0;34m[\u001b[0m\u001b[0;34m:\u001b[0m\u001b[0mnum_train\u001b[0m\u001b[0;34m]\u001b[0m\u001b[0;34m\u001b[0m\u001b[0;34m\u001b[0m\u001b[0m\n\u001b[0m\u001b[1;32m      5\u001b[0m \u001b[0mtrainlabels\u001b[0m\u001b[0;34m=\u001b[0m\u001b[0mtrainlabels1\u001b[0m\u001b[0;34m[\u001b[0m\u001b[0;34m:\u001b[0m\u001b[0mnum_train\u001b[0m\u001b[0;34m]\u001b[0m\u001b[0;34m\u001b[0m\u001b[0;34m\u001b[0m\u001b[0m\n\u001b[1;32m      6\u001b[0m \u001b[0mtestdata\u001b[0m\u001b[0;34m=\u001b[0m\u001b[0mtestdata1\u001b[0m\u001b[0;34m[\u001b[0m\u001b[0;34m:\u001b[0m\u001b[0mnum_test\u001b[0m\u001b[0;34m]\u001b[0m\u001b[0;34m\u001b[0m\u001b[0;34m\u001b[0m\u001b[0m\n",
      "\u001b[0;31mNameError\u001b[0m: name 'traindata1' is not defined"
     ]
    }
   ],
   "source": [
    "num_train=10000\n",
    "num_test=5000\n",
    "\n",
    "traindata=traindata1[:num_train]\n",
    "trainlabels=trainlabels1[:num_train]\n",
    "testdata=testdata1[:num_test]\n",
    "testlabels=testlabels1[:num_test]\n",
    "\n",
    "num_test=testdata.shape[0]\n",
    "\n"
   ]
  },
  {
   "cell_type": "code",
   "execution_count": 85,
   "metadata": {},
   "outputs": [
    {
     "name": "stderr",
     "output_type": "stream",
     "text": [
      " 17%|█▋        | 1/6 [00:03<00:18,  3.61s/it]"
     ]
    },
    {
     "name": "stdout",
     "output_type": "stream",
     "text": [
      "k=5:accuracy=28.70%\n"
     ]
    },
    {
     "name": "stderr",
     "output_type": "stream",
     "text": [
      "\r",
      " 33%|███▎      | 2/6 [00:07<00:14,  3.59s/it]"
     ]
    },
    {
     "name": "stdout",
     "output_type": "stream",
     "text": [
      "k=10:accuracy=29.66%\n"
     ]
    },
    {
     "name": "stderr",
     "output_type": "stream",
     "text": [
      "\r",
      " 50%|█████     | 3/6 [00:10<00:10,  3.58s/it]"
     ]
    },
    {
     "name": "stdout",
     "output_type": "stream",
     "text": [
      "k=15:accuracy=28.88%\n"
     ]
    },
    {
     "name": "stderr",
     "output_type": "stream",
     "text": [
      "\r",
      " 67%|██████▋   | 4/6 [00:14<00:07,  3.66s/it]"
     ]
    },
    {
     "name": "stdout",
     "output_type": "stream",
     "text": [
      "k=20:accuracy=29.70%\n"
     ]
    },
    {
     "name": "stderr",
     "output_type": "stream",
     "text": [
      "\r",
      " 83%|████████▎ | 5/6 [00:18<00:03,  3.65s/it]"
     ]
    },
    {
     "name": "stdout",
     "output_type": "stream",
     "text": [
      "k=40:accuracy=28.74%\n"
     ]
    },
    {
     "name": "stderr",
     "output_type": "stream",
     "text": [
      "100%|██████████| 6/6 [00:21<00:00,  3.64s/it]"
     ]
    },
    {
     "name": "stdout",
     "output_type": "stream",
     "text": [
      "k=100:accuracy=27.54%\n"
     ]
    },
    {
     "name": "stderr",
     "output_type": "stream",
     "text": [
      "\n"
     ]
    }
   ],
   "source": [
    "\n",
    "k_choice=[5,10,15,20,40,100]\n",
    "#k_choice=[10]\n",
    "k_accuracy=[]\n",
    "for k_c in tqdm(k_choice):\n",
    "\n",
    "    neigh = KNeighborsClassifier(n_neighbors=k_c)\n",
    "    neigh.fit(traindata, trainlabels)    \n",
    "    pre = neigh.predict(testdata)\n",
    "    accuracy = accuracy_score(testlabels,pre)\n",
    "    accuracy = accuracy*100\n",
    "    k_accuracy.append(accuracy)\n",
    "    print('k=%d:accuracy=%.2f%%'%(k_c,accuracy))\n",
    "\n",
    "\n",
    "\n"
   ]
  },
  {
   "cell_type": "code",
   "execution_count": 86,
   "metadata": {},
   "outputs": [
    {
     "data": {
      "text/plain": [
       "[28.7, 29.659999999999997, 28.88, 29.7, 28.74, 27.54]"
      ]
     },
     "execution_count": 86,
     "metadata": {},
     "output_type": "execute_result"
    }
   ],
   "source": [
    "k_accuracy"
   ]
  },
  {
   "cell_type": "code",
   "execution_count": 87,
   "metadata": {},
   "outputs": [
    {
     "data": {
      "image/png": "[encoded data removed]",
      "text/plain": [
       "<Figure size 720x432 with 1 Axes>"
      ]
     },
     "metadata": {
      "needs_background": "light"
     },
     "output_type": "display_data"
    }
   ],
   "source": [
    "#将结果可视化\n",
    "plt.figure(figsize=(10,6))\n",
    "plt.plot(k_choice,k_accuracy,'r-')\n",
    "plt.plot(k_choice,k_accuracy,'go')\n",
    "plt.xlabel('k')\n",
    "plt.ylabel('accuracy(%)')\n",
    "plt.title('k choice')\n",
    "plt.show()\n"
   ]
  },
  {
   "cell_type": "code",
   "execution_count": 88,
   "metadata": {},
   "outputs": [
    {
     "name": "stdout",
     "output_type": "stream",
     "text": [
      "\n",
      "\n",
      "max_acc=29.70%,max_acc_k=20\n",
      "\n",
      "\n",
      "运行时间：123.94975199999999s\n"
     ]
    }
   ],
   "source": [
    "\n",
    "max_id=np.argmax(k_accuracy)\n",
    "max_acc=k_accuracy[max_id]\n",
    "max_acc_k=k_choice[max_id]\n",
    "\n",
    "print('\\n\\nmax_acc=%.2f%%,max_acc_k=%d'%(max_acc,max_acc_k))\n",
    "\n",
    "end_time=time.process_time()\n",
    "\n",
    "print('\\n\\nexecution time：%ss'%(str(end_time-start_time)))\n"
   ]
  },
  {
   "cell_type": "code",
   "execution_count": null,
   "metadata": {
    "collapsed": true
   },
   "outputs": [],
   "source": []
  },
  {
   "cell_type": "markdown",
   "metadata": {},
   "source": [
    "# The RGB pixel values of the dataset are extracted and the features are obtained by PCA transform and classified by KNN. Different principal component scores and different K values are set in the experiments."
   ]
  },
  {
   "cell_type": "code",
   "execution_count": null,
   "metadata": {
    "collapsed": true
   },
   "outputs": [],
   "source": [
    "\n"
   ]
  },
  {
   "cell_type": "code",
   "execution_count": 7,
   "metadata": {
    "collapsed": true
   },
   "outputs": [],
   "source": [
    "start=time.process_time()"
   ]
  },
  {
   "cell_type": "code",
   "execution_count": 8,
   "metadata": {
    "collapsed": true
   },
   "outputs": [],
   "source": [
    "def unpickle(file):\n",
    "    import pickle\n",
    "    with open(file, 'rb') as fo:\n",
    "        dict = pickle.load(fo, encoding='bytes')\n",
    "    return dict"
   ]
  },
  {
   "cell_type": "code",
   "execution_count": 9,
   "metadata": {
    "collapsed": true
   },
   "outputs": [],
   "source": [
    "traindata1,trainlabels1,testdata1,testlabels1=CreatData()\n",
    "\n",
    "num_train=10000\n",
    "num_test=5000\n",
    "\n",
    "traindata=traindata1[:num_train]\n",
    "trainlabels=trainlabels1[:num_train]\n",
    "testdata=testdata1[:num_test]\n",
    "testlabels=testlabels1[:num_test]\n"
   ]
  },
  {
   "cell_type": "code",
   "execution_count": 10,
   "metadata": {
    "collapsed": true
   },
   "outputs": [
    {
     "name": "stdout",
     "output_type": "stream",
     "text": [
      "307\n",
      "(10000, 307)\n"
     ]
    }
   ],
   "source": [
    "#PCA\n",
    "pca=PCA(n_components=307,copy=True)\n",
    "num_pca=pca.n_components\n",
    "pca_traindata=pca.fit_transform(traindata)\n",
    "print(num_pca)\n",
    "print(pca_traindata.shape)"
   ]
  },
  {
   "cell_type": "code",
   "execution_count": 11,
   "metadata": {
    "collapsed": true
   },
   "outputs": [],
   "source": [
    "#记录最高精度max_acc,以及对应的HOG尺寸max_acc_cellsize和K值max_acc_K\n",
    "max_acc=0\n",
    "max_acc_n_components=0\n",
    "max_acc_k=0"
   ]
  },
  {
   "cell_type": "code",
   "execution_count": 117,
   "metadata": {},
   "outputs": [
    {
     "name": "stdout",
     "output_type": "stream",
     "text": [
      "\n",
      "\n",
      "k= 5\n",
      "n_components=100:accuracy=13.04%\n",
      "n_components=700:accuracy=11.98%\n",
      "n_components=1000:accuracy=11.78%\n",
      "n_components=2000:accuracy=11.74%\n",
      "n_components=3000:accuracy=11.76%\n",
      "n_components=3072:accuracy=11.76%\n",
      "\n",
      "\n",
      "k= 10\n",
      "n_components=100:accuracy=13.22%\n",
      "n_components=700:accuracy=12.08%\n",
      "n_components=1000:accuracy=11.98%\n",
      "n_components=2000:accuracy=12.00%\n",
      "n_components=3000:accuracy=12.04%\n",
      "n_components=3072:accuracy=12.04%\n",
      "\n",
      "\n",
      "k= 15\n",
      "n_components=100:accuracy=13.54%\n",
      "n_components=700:accuracy=12.84%\n",
      "n_components=1000:accuracy=12.80%\n",
      "n_components=2000:accuracy=12.66%\n",
      "n_components=3000:accuracy=12.64%\n",
      "n_components=3072:accuracy=12.64%\n",
      "\n",
      "\n",
      "k= 20\n",
      "n_components=100:accuracy=13.40%\n",
      "n_components=700:accuracy=13.02%\n",
      "n_components=1000:accuracy=13.08%\n",
      "n_components=2000:accuracy=12.78%\n",
      "n_components=3000:accuracy=12.74%\n",
      "n_components=3072:accuracy=12.74%\n",
      "\n",
      "\n",
      "k= 40\n",
      "n_components=100:accuracy=13.00%\n",
      "n_components=700:accuracy=12.16%\n",
      "n_components=1000:accuracy=11.86%\n",
      "n_components=2000:accuracy=12.08%\n",
      "n_components=3000:accuracy=12.06%\n",
      "n_components=3072:accuracy=12.06%\n",
      "\n",
      "\n",
      "k= 100\n",
      "n_components=100:accuracy=12.60%\n",
      "n_components=700:accuracy=12.24%\n",
      "n_components=1000:accuracy=12.26%\n",
      "n_components=2000:accuracy=12.18%\n",
      "n_components=3000:accuracy=12.18%\n",
      "n_components=3072:accuracy=12.20%\n"
     ]
    }
   ],
   "source": [
    "k_choice=[5,10,15,20,40,100]\n",
    "#k_choice=[10] \n",
    "\n",
    "for k_c in k_choice:\n",
    "    print('\\n\\nk=',k_c)\n",
    "   \n",
    "    num_components=[100,700,1000,2000,3000,3072]\n",
    "\n",
    "    size_accuracy=[]\n",
    "    \n",
    "    for num_c in num_components:\n",
    "\n",
    "        pca=PCA(n_components=num_c,copy=True)\n",
    "        pca_traindata=pca.fit_transform(traindata)\n",
    "       \n",
    "        pca_testdata=pca.fit_transform(testdata)\n",
    "    \n",
    "        \n",
    "        predictlabels=KNN(pca_traindata,trainlabels,pca_testdata,k=k_c)\n",
    "        testlabels=np.reshape(testlabels,[num_test,1])\n",
    "\n",
    "        num_right=np.sum((predictlabels==testlabels).astype('float'))\n",
    "        accuracy=(num_right/num_test)*100\n",
    "        print('n_components=%d:accuracy=%.2f%%'%(num_c,accuracy))\n",
    "        \n",
    "        size_accuracy.append(accuracy)\n",
    "    \n",
    "    max_id=np.argmax(size_accuracy)\n",
    "    if size_accuracy[max_id]>max_acc:\n",
    "        max_acc=size_accuracy[max_id]\n",
    "        max_acc_n_components=num_components[max_id]\n",
    "        max_acc_k=k_c"
   ]
  },
  {
   "cell_type": "code",
   "execution_count": 118,
   "metadata": {},
   "outputs": [
    {
     "data": {
      "image/png": "[encoded data removed]",
      "text/plain": [
       "<Figure size 864x576 with 1 Axes>"
      ]
     },
     "metadata": {
      "needs_background": "light"
     },
     "output_type": "display_data"
    }
   ],
   "source": [
    "\n",
    "plt.figure(figsize=(12,8))\n",
    "plt.plot(num_components,size_accuracy,'r-')\n",
    "plt.plot(num_components,size_accuracy,'go')\n",
    "plt.xlabel('n_components')\n",
    "plt.ylabel('accuracy(%)')\n",
    "plt.title('k=%d'%(k_c))\n",
    "plt.show()"
   ]
  },
  {
   "cell_type": "code",
   "execution_count": null,
   "metadata": {
    "collapsed": true
   },
   "outputs": [],
   "source": []
  },
  {
   "cell_type": "code",
   "execution_count": null,
   "metadata": {
    "collapsed": true
   },
   "outputs": [],
   "source": []
  },
  {
   "cell_type": "code",
   "execution_count": 12,
   "metadata": {
    "collapsed": true
   },
   "outputs": [],
   "source": [
    "\n",
    "traindata1,trainlabels1,testdata1,testlabels1=CreatData()\n",
    "\n",
    "num_train=10000\n",
    "num_test=5000\n",
    "\n",
    "traindata=np.reshape(traindata1[:num_train],[num_train,3,32,32])\n",
    "trainlabels=trainlabels1[:num_train]\n",
    "testdata=np.reshape(testdata1[:num_test],[num_test,3,32,32])\n",
    "testlabels=testlabels1[:num_test]"
   ]
  },
  {
   "cell_type": "code",
   "execution_count": 24,
   "metadata": {},
   "outputs": [],
   "source": [
    "def hog_extraction(data,size):\n",
    "    num=data.shape[0]\n",
    "    #Extraction of HOG features from training samples\n",
    "    data1_hogfeature=[]\n",
    "    for i in range(num):\n",
    "        x=data[i]\n",
    "        r=Image.fromarray(x[0])\n",
    "        g=Image.fromarray(x[1])\n",
    "        b=Image.fromarray(x[2])\n",
    "        \n",
    "        #merge RGB channel\n",
    "        img=Image.merge(\"RGB\",(r,g,b))\n",
    "        #transform to grey image\n",
    "        gray=img.convert('L')\n",
    "        out=gray.resize((100,100),Image.ANTIALIAS)\n",
    "        #transform to array\n",
    "        gray_array=np.array(gray)\n",
    "        \n",
    "        #HOG feature\n",
    "        hogfeature=ft.hog(gray_array,pixels_per_cell=(size,size))\n",
    "\n",
    "        data1_hogfeature.append(hogfeature)\n",
    "\n",
    "    #Stacking the features in data1_hogfeature by row\n",
    "    data_hogfeature=np.reshape(np.concatenate(data1_hogfeature),[num,-1])\n",
    "    return data_hogfeature"
   ]
  },
  {
   "cell_type": "markdown",
   "metadata": {
    "scrolled": true
   },
   "source": [
    "# HOG"
   ]
  },
  {
   "cell_type": "code",
   "execution_count": 8,
   "metadata": {},
   "outputs": [
    {
     "name": "stdout",
     "output_type": "stream",
     "text": [
      "\n",
      "\n",
      "k= 5\n"
     ]
    },
    {
     "ename": "KeyboardInterrupt",
     "evalue": "",
     "output_type": "error",
     "traceback": [
      "\u001b[0;31m---------------------------------------------------------------------------\u001b[0m",
      "\u001b[0;31mKeyboardInterrupt\u001b[0m                         Traceback (most recent call last)",
      "\u001b[0;32m<ipython-input-8-00a44af9c9ad>\u001b[0m in \u001b[0;36m<module>\u001b[0;34m\u001b[0m\n\u001b[1;32m    106\u001b[0m \u001b[0;34m\u001b[0m\u001b[0m\n\u001b[1;32m    107\u001b[0m         \u001b[0;31m#预测标签\u001b[0m\u001b[0;34m\u001b[0m\u001b[0;34m\u001b[0m\u001b[0;34m\u001b[0m\u001b[0m\n\u001b[0;32m--> 108\u001b[0;31m         \u001b[0mpredictlabels\u001b[0m\u001b[0;34m=\u001b[0m\u001b[0mKNN\u001b[0m\u001b[0;34m(\u001b[0m\u001b[0mtrain_hogfeature\u001b[0m\u001b[0;34m,\u001b[0m\u001b[0mtrainlabels\u001b[0m\u001b[0;34m,\u001b[0m\u001b[0mtest_hogfeature\u001b[0m\u001b[0;34m,\u001b[0m\u001b[0mk\u001b[0m\u001b[0;34m=\u001b[0m\u001b[0mk_c\u001b[0m\u001b[0;34m)\u001b[0m\u001b[0;34m\u001b[0m\u001b[0;34m\u001b[0m\u001b[0m\n\u001b[0m\u001b[1;32m    109\u001b[0m \u001b[0;34m\u001b[0m\u001b[0m\n\u001b[1;32m    110\u001b[0m         \u001b[0mtestlabels\u001b[0m\u001b[0;34m=\u001b[0m\u001b[0mnp\u001b[0m\u001b[0;34m.\u001b[0m\u001b[0mreshape\u001b[0m\u001b[0;34m(\u001b[0m\u001b[0mtestlabels\u001b[0m\u001b[0;34m,\u001b[0m\u001b[0;34m[\u001b[0m\u001b[0mnum_test\u001b[0m\u001b[0;34m,\u001b[0m\u001b[0;36m1\u001b[0m\u001b[0;34m]\u001b[0m\u001b[0;34m)\u001b[0m\u001b[0;34m\u001b[0m\u001b[0;34m\u001b[0m\u001b[0m\n",
      "\u001b[0;32m<ipython-input-3-b6f2c15758e4>\u001b[0m in \u001b[0;36mKNN\u001b[0;34m(traindata, trainlabels, testdata, k)\u001b[0m\n\u001b[1;32m      5\u001b[0m     \u001b[0mdist\u001b[0m\u001b[0;34m=\u001b[0m\u001b[0mnp\u001b[0m\u001b[0;34m.\u001b[0m\u001b[0mzeros\u001b[0m\u001b[0;34m(\u001b[0m\u001b[0;34m(\u001b[0m\u001b[0mnum_test\u001b[0m\u001b[0;34m,\u001b[0m\u001b[0mnum_train\u001b[0m\u001b[0;34m)\u001b[0m\u001b[0;34m)\u001b[0m\u001b[0;34m\u001b[0m\u001b[0;34m\u001b[0m\u001b[0m\n\u001b[1;32m      6\u001b[0m     \u001b[0;32mfor\u001b[0m \u001b[0mi\u001b[0m \u001b[0;32min\u001b[0m \u001b[0mrange\u001b[0m\u001b[0;34m(\u001b[0m\u001b[0mnum_test\u001b[0m\u001b[0;34m)\u001b[0m\u001b[0;34m:\u001b[0m\u001b[0;34m\u001b[0m\u001b[0;34m\u001b[0m\u001b[0m\n\u001b[0;32m----> 7\u001b[0;31m         \u001b[0mdist\u001b[0m\u001b[0;34m[\u001b[0m\u001b[0mi\u001b[0m\u001b[0;34m]\u001b[0m\u001b[0;34m=\u001b[0m\u001b[0mnp\u001b[0m\u001b[0;34m.\u001b[0m\u001b[0mreshape\u001b[0m\u001b[0;34m(\u001b[0m\u001b[0mnp\u001b[0m\u001b[0;34m.\u001b[0m\u001b[0msqrt\u001b[0m\u001b[0;34m(\u001b[0m\u001b[0mnp\u001b[0m\u001b[0;34m.\u001b[0m\u001b[0msum\u001b[0m\u001b[0;34m(\u001b[0m\u001b[0mnp\u001b[0m\u001b[0;34m.\u001b[0m\u001b[0msquare\u001b[0m\u001b[0;34m(\u001b[0m\u001b[0mtestdata\u001b[0m\u001b[0;34m[\u001b[0m\u001b[0mi\u001b[0m\u001b[0;34m]\u001b[0m\u001b[0;34m-\u001b[0m\u001b[0mtraindata\u001b[0m\u001b[0;34m)\u001b[0m\u001b[0;34m,\u001b[0m\u001b[0maxis\u001b[0m\u001b[0;34m=\u001b[0m\u001b[0;36m1\u001b[0m\u001b[0;34m)\u001b[0m\u001b[0;34m)\u001b[0m\u001b[0;34m,\u001b[0m\u001b[0;34m[\u001b[0m\u001b[0;36m1\u001b[0m\u001b[0;34m,\u001b[0m\u001b[0mnum_train\u001b[0m\u001b[0;34m]\u001b[0m\u001b[0;34m)\u001b[0m\u001b[0;34m\u001b[0m\u001b[0;34m\u001b[0m\u001b[0m\n\u001b[0m\u001b[1;32m      8\u001b[0m     \u001b[0;31m#找到每一行中从小到大排序后前k个值所对应的原来的索引,对应的标签给close_k\u001b[0m\u001b[0;34m\u001b[0m\u001b[0;34m\u001b[0m\u001b[0;34m\u001b[0m\u001b[0m\n\u001b[1;32m      9\u001b[0m     \u001b[0;31m#统计这些索引中出现次数最多的那个数为预测样本类别\u001b[0m\u001b[0;34m\u001b[0m\u001b[0;34m\u001b[0m\u001b[0;34m\u001b[0m\u001b[0m\n",
      "\u001b[0;31mKeyboardInterrupt\u001b[0m: "
     ]
    }
   ],
   "source": [
    "import numpy as np\n",
    "import os\n",
    "import time\n",
    "import matplotlib.pyplot as plt\n",
    "from PIL import Image\n",
    "from skimage import feature as ft\n",
    "\n",
    "start=time.process_time()\n",
    "\n",
    "\n",
    "\n",
    "def unpickle(file):\n",
    "    import pickle\n",
    "    with open(file, 'rb') as fo:\n",
    "        dict = pickle.load(fo, encoding='bytes')\n",
    "    return dict\n",
    "\n",
    "#创建训练样本和测试样本\n",
    "def CreatData():\n",
    "    #create data\n",
    "    #merge each batch to X and Y\n",
    "    x=[]\n",
    "    y=[]\n",
    "    for i in range(1,6):\n",
    "        batch_path='/Users/swagyangjh/Desktop/604/finalProejct/final/data/cifar-10-batches-py/data_batch_%d'%(i)\n",
    "        batch_dict=unpickle(batch_path)\n",
    "        train_batch=batch_dict[b'data']\n",
    "        train_labels=np.array(batch_dict[b'labels'])\n",
    "        x.append(train_batch)\n",
    "        y.append(train_labels)\n",
    "    #five batches are 50000x3072，label is 50000x1\n",
    "   \n",
    "    traindata=np.concatenate(x)\n",
    "    trainlabels=np.concatenate(y)\n",
    "   \n",
    "    testpath=os.path.join('/Users/swagyangjh/Desktop/604/finalProejct/final/data/cifar-10-batches-py/test_batch')\n",
    "    test_dict=unpickle(testpath)\n",
    "    testdata=test_dict[b'data']\n",
    "    testlabels=np.array(test_dict[b'labels'])\n",
    "    \n",
    "    return traindata,trainlabels,testdata,testlabels\n",
    "\n",
    "#train and test\n",
    "traindata1,trainlabels1,testdata1,testlabels1=CreatData()\n",
    "\n",
    "num_train=10000\n",
    "num_test=5000\n",
    "\n",
    "traindata=np.reshape(traindata1[:num_train],[num_train,3,32,32])\n",
    "trainlabels=trainlabels1[:num_train]\n",
    "testdata=np.reshape(testdata1[:num_test],[num_test,3,32,32])\n",
    "testlabels=testlabels1[:num_test]\n",
    "\n",
    "#HOG feature function，input data is [num,3,32,32] format,size is cell；return data_hogfeature [num,dim]\n",
    "def hog_extraction(data,size):\n",
    "    num=data.shape[0]\n",
    "    #hog feature\n",
    "    data1_hogfeature=[]\n",
    "    for i in range(num):\n",
    "        x=data[i]\n",
    "        r=Image.fromarray(x[0])\n",
    "        g=Image.fromarray(x[1])\n",
    "        b=Image.fromarray(x[2])\n",
    "        \n",
    "        #merge three channel\n",
    "        img=Image.merge(\"RGB\",(r,g,b))\n",
    "        #turn it into grey\n",
    "        gray=img.convert('L')\n",
    "#        out=gray.resize((100,100),Image.ANTIALIAS)\n",
    "        # transform to array\n",
    "        gray_array=np.array(gray)\n",
    "        \n",
    "        \n",
    "        hogfeature=ft.hog(gray_array,pixels_per_cell=(size,size))\n",
    "\n",
    "        data1_hogfeature.append(hogfeature)\n",
    "\n",
    "  \n",
    "    data_hogfeature=np.reshape(np.concatenate(data1_hogfeature),[num,-1])\n",
    "    return data_hogfeature\n",
    "\n",
    "\n",
    "max_acc=0\n",
    "max_acc_cellsize=0\n",
    "max_acc_k=0\n",
    "\n",
    "#k\n",
    "k_choice=[5,10,15,20]\n",
    "#k_choice=[15]\n",
    "for k_c in k_choice:\n",
    "    print('\\n\\nk=',k_c)\n",
    "    #HOG cellsize\n",
    "    cellsize=[4,6,8,9,10]\n",
    "#    cellsize=[10]\n",
    "    size_accuracy=[]\n",
    "    for size in cellsize:\n",
    "        #hog feature\n",
    "        train_hogfeature=hog_extraction(traindata,size)\n",
    "        #test hog feature\n",
    "        test_hogfeature=hog_extraction(testdata,size)\n",
    "        num_hogfeature=test_hogfeature.shape[1]\n",
    "    \n",
    "        #\n",
    "        predictlabels=KNN(train_hogfeature,trainlabels,test_hogfeature,k=k_c)\n",
    "        \n",
    "        testlabels=np.reshape(testlabels,[num_test,1])\n",
    "        #\n",
    "        num_right=np.sum((predictlabels==testlabels).astype('float'))\n",
    "        accuracy=(num_right/num_test)*100\n",
    "        print('cellsize=(%d,%d),num_hogfeature=%d:accuracy=%.2f%%'%(size,size,num_hogfeature,accuracy))\n",
    "        \n",
    "        size_accuracy.append(accuracy)\n",
    "    \n",
    "    max_id=np.argmax(size_accuracy)\n",
    "    if size_accuracy[max_id]>max_acc:\n",
    "        max_acc=size_accuracy[max_id]\n",
    "        max_acc_cellsize=cellsize[max_id]\n",
    "        max_acc_k=k_c\n",
    "    \n",
    "   \n",
    "    plt.figure(figsize=(12,8))\n",
    "    plt.plot(cellsize,size_accuracy,'r-')\n",
    "    plt.plot(cellsize,size_accuracy,'go')\n",
    "    plt.xlabel('cellsize')\n",
    "    plt.ylabel('accuracy(%)')\n",
    "    plt.title('k=%d'%(k_c))\n",
    "    plt.show()\n",
    "\n",
    "print('\\n\\nThe result:max_acc=%.2f%%,max_acc_cellsize=(%d,%d),max_acc_k=%d'%(max_acc,max_acc_cellsize,max_acc_cellsize,max_acc_k))\n",
    "\n",
    "end=time.process_time()\n",
    "\n",
    "print('time：%ss'%(str(end-start)))"
   ]
  },
  {
   "cell_type": "code",
   "execution_count": null,
   "metadata": {},
   "outputs": [],
   "source": []
  },
  {
   "cell_type": "code",
   "execution_count": null,
   "metadata": {
    "collapsed": true
   },
   "outputs": [],
   "source": []
  },
  {
   "cell_type": "code",
   "execution_count": null,
   "metadata": {
    "collapsed": true
   },
   "outputs": [],
   "source": []
  },
  {
   "cell_type": "code",
   "execution_count": null,
   "metadata": {
    "collapsed": true
   },
   "outputs": [],
   "source": []
  },
  {
   "cell_type": "code",
   "execution_count": null,
   "metadata": {
    "collapsed": true
   },
   "outputs": [],
   "source": []
  },
  {
   "cell_type": "code",
   "execution_count": null,
   "metadata": {
    "collapsed": true
   },
   "outputs": [],
   "source": []
  },
  {
   "cell_type": "code",
   "execution_count": null,
   "metadata": {
    "collapsed": true
   },
   "outputs": [],
   "source": []
  },
  {
   "cell_type": "code",
   "execution_count": null,
   "metadata": {
    "collapsed": true
   },
   "outputs": [],
   "source": []
  },
  {
   "cell_type": "code",
   "execution_count": null,
   "metadata": {
    "collapsed": true
   },
   "outputs": [],
   "source": []
  }
 ],
 "metadata": {
  "kernelspec": {
   "display_name": "Python 3",
   "language": "python",
   "name": "python3"
  },
  "language_info": {
   "codemirror_mode": {
    "name": "ipython",
    "version": 3
   },
   "file_extension": ".py",
   "mimetype": "text/x-python",
   "name": "python",
   "nbconvert_exporter": "python",
   "pygments_lexer": "ipython3",
   "version": "3.8.5"
  }
 },
 "nbformat": 4,
 "nbformat_minor": 4
}
